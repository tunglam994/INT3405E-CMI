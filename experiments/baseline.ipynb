{
 "cells": [
  {
   "cell_type": "markdown",
   "metadata": {
    "papermill": {
     "duration": 0.005261,
     "end_time": "2024-12-12T23:01:09.455927",
     "exception": false,
     "start_time": "2024-12-12T23:01:09.450666",
     "status": "completed"
    },
    "tags": []
   },
   "source": [
    "# Description of Imported Libraries\n",
    "\n",
    "- **NumPy (`np`)**: Used for efficient numerical operations, including linear algebra and array manipulation.\n",
    "- **Pandas (`pd`)**: Provides data structures like DataFrames for handling structured data, essential for data preprocessing.\n",
    "- **Polars (`pl`)**: A faster alternative to pandas for DataFrame operations, particularly useful for large datasets.\n",
    "- **Matplotlib & Seaborn (`plt`, `sns`)**: Visualization libraries. Matplotlib is used for basic plots, while Seaborn builds on it to create more advanced statistical visualizations.\n",
    "- **LightGBM, XGBoost, CatBoost**: Machine learning libraries used for gradient boosting, which is efficient for both regression and classification tasks.\n",
    "- **Colorama**: Enhances console output with colored text, making it easier to highlight important results or warnings.\n",
    "- **SciPy (`minimize`)**: Provides optimization routines, such as adjusting thresholds to maximize performance metrics like kappa scores.\n",
    "- **OS**: Used for file path manipulations and system-related functions.\n",
    "- **Scikit-learn (`sklearn`)**: A powerful machine learning library, providing utilities for cross-validation, metrics, and model cloning.\n",
    "- **YDF**: A specialized library for machine learning tasks, likely including decision forests.\n",
    "- **ThreadPoolExecutor & TQDM**: Tools for parallelizing tasks and displaying progress bars for long-running loops, improving efficiency and usability.\n",
    "- **Warnings**: Filters out unwanted warnings to keep the output clean, useful when dealing with noisy outputs from multiple libraries.\n",
    "- **IPython display (`clear_output`)**: A utility for clearing the Jupyter notebook output, often used to avoid clutter in long-running scripts.\n"
   ]
  },
  {
   "cell_type": "code",
   "execution_count": null,
   "metadata": {
    "execution": {
     "iopub.execute_input": "2024-12-22T14:42:41.797059Z",
     "iopub.status.busy": "2024-12-22T14:42:41.796622Z",
     "iopub.status.idle": "2024-12-22T14:42:41.805809Z",
     "shell.execute_reply": "2024-12-22T14:42:41.804575Z",
     "shell.execute_reply.started": "2024-12-22T14:42:41.797025Z"
    },
    "papermill": {
     "duration": 22.472291,
     "end_time": "2024-12-12T23:01:31.933658",
     "exception": false,
     "start_time": "2024-12-12T23:01:09.461367",
     "status": "completed"
    },
    "tags": [],
    "trusted": true
   },
   "outputs": [],
   "source": [
    "import numpy as np\n",
    "import pandas as pd\n",
    "import os\n",
    "import re\n",
    "from sklearn.base import clone\n",
    "from sklearn.metrics import cohen_kappa_score\n",
    "from sklearn.model_selection import StratifiedKFold\n",
    "from scipy.optimize import minimize\n",
    "from concurrent.futures import ThreadPoolExecutor\n",
    "from tqdm import tqdm\n",
    "import polars as pl\n",
    "import polars.selectors as cs\n",
    "import matplotlib.pyplot as plt\n",
    "from matplotlib.ticker import MaxNLocator, FormatStrFormatter, PercentFormatter\n",
    "import seaborn as sns\n",
    "\n",
    "from sklearn.preprocessing import StandardScaler\n",
    "import matplotlib.pyplot as plt\n",
    "from keras.models import Model\n",
    "from keras.layers import Input, Dense\n",
    "from keras.optimizers import Adam\n",
    "import torch\n",
    "import torch.nn as nn\n",
    "import torch.optim as optim\n",
    "\n",
    "from colorama import Fore, Style\n",
    "from IPython.display import clear_output\n",
    "import warnings\n",
    "from lightgbm import LGBMRegressor\n",
    "from xgboost import XGBRegressor\n",
    "from catboost import CatBoostRegressor\n",
    "from sklearn.ensemble import VotingRegressor, RandomForestRegressor, GradientBoostingRegressor\n",
    "from sklearn.impute import SimpleImputer, KNNImputer\n",
    "from sklearn.pipeline import Pipeline\n",
    "warnings.filterwarnings('ignore')\n",
    "pd.options.display.max_columns = None"
   ]
  },
  {
   "cell_type": "code",
   "execution_count": null,
   "metadata": {
    "execution": {
     "iopub.execute_input": "2024-12-22T14:42:41.807529Z",
     "iopub.status.busy": "2024-12-22T14:42:41.807191Z",
     "iopub.status.idle": "2024-12-22T14:42:41.831741Z",
     "shell.execute_reply": "2024-12-22T14:42:41.830681Z",
     "shell.execute_reply.started": "2024-12-22T14:42:41.807500Z"
    },
    "papermill": {
     "duration": 0.011874,
     "end_time": "2024-12-12T23:01:31.952534",
     "exception": false,
     "start_time": "2024-12-12T23:01:31.940660",
     "status": "completed"
    },
    "tags": [],
    "trusted": true
   },
   "outputs": [],
   "source": [
    "target_labels = ['None', 'Mild', 'Moderate', 'Severe']"
   ]
  },
  {
   "cell_type": "code",
   "execution_count": null,
   "metadata": {
    "execution": {
     "iopub.execute_input": "2024-12-22T14:42:41.834712Z",
     "iopub.status.busy": "2024-12-22T14:42:41.834233Z",
     "iopub.status.idle": "2024-12-22T14:42:41.876743Z",
     "shell.execute_reply": "2024-12-22T14:42:41.875604Z",
     "shell.execute_reply.started": "2024-12-22T14:42:41.834667Z"
    },
    "papermill": {
     "duration": 0.181654,
     "end_time": "2024-12-12T23:01:32.139841",
     "exception": false,
     "start_time": "2024-12-12T23:01:31.958187",
     "status": "completed"
    },
    "tags": [],
    "trusted": true
   },
   "outputs": [],
   "source": [
    "season_dtype = pl.Enum(['Spring', 'Summer', 'Fall', 'Winter'])\n",
    "\n",
    "train = (\n",
    "    pl.read_csv('/kaggle/input/child-mind-institute-problematic-internet-use/train.csv')\n",
    "    .with_columns(pl.col('^.*Season$').cast(season_dtype))\n",
    ")\n",
    "\n",
    "test = (\n",
    "    pl.read_csv('/kaggle/input/child-mind-institute-problematic-internet-use/test.csv')\n",
    "    .with_columns(pl.col('^.*Season$').cast(season_dtype))\n",
    ")\n",
    "\n",
    "train\n",
    "test"
   ]
  },
  {
   "cell_type": "markdown",
   "metadata": {
    "papermill": {
     "duration": 0.005839,
     "end_time": "2024-12-12T23:01:32.151970",
     "exception": false,
     "start_time": "2024-12-12T23:01:32.146131",
     "status": "completed"
    },
    "tags": []
   },
   "source": [
    "For a supervised learning, we need the target value, but some (sii) are missing. So we only use the part with valid target value(sii)."
   ]
  },
  {
   "cell_type": "code",
   "execution_count": null,
   "metadata": {
    "execution": {
     "iopub.execute_input": "2024-12-22T14:42:41.878786Z",
     "iopub.status.busy": "2024-12-22T14:42:41.878375Z",
     "iopub.status.idle": "2024-12-22T14:42:42.989720Z",
     "shell.execute_reply": "2024-12-22T14:42:42.988537Z",
     "shell.execute_reply.started": "2024-12-22T14:42:41.878747Z"
    },
    "papermill": {
     "duration": 1.019277,
     "end_time": "2024-12-12T23:01:33.177130",
     "exception": false,
     "start_time": "2024-12-12T23:01:32.157853",
     "status": "completed"
    },
    "tags": [],
    "trusted": true
   },
   "outputs": [],
   "source": [
    "supervised_usable = (\n",
    "    train\n",
    "    .filter(pl.col('sii').is_not_null())\n",
    ")\n",
    "\n",
    "missing_count = (\n",
    "    supervised_usable\n",
    "    .null_count()\n",
    "    .transpose(include_header=True,\n",
    "               header_name='feature',\n",
    "               column_names=['null_count'])\n",
    "    .sort('null_count', descending=True)\n",
    "    .with_columns((pl.col('null_count') / len(supervised_usable)).alias('null_ratio'))\n",
    ")\n",
    "plt.figure(figsize=(6, 15))\n",
    "plt.title(f'Missing values over the {len(supervised_usable)} samples which have a target')\n",
    "plt.barh(np.arange(len(missing_count)), missing_count.get_column('null_ratio'), color='coral', label='missing')\n",
    "plt.barh(np.arange(len(missing_count)), \n",
    "         1 - missing_count.get_column('null_ratio'),\n",
    "         left=missing_count.get_column('null_ratio'),\n",
    "         color='darkseagreen', label='available')\n",
    "plt.yticks(np.arange(len(missing_count)), missing_count.get_column('feature'))\n",
    "plt.gca().xaxis.set_major_formatter(PercentFormatter(xmax=1, decimals=0))\n",
    "plt.xlim(0, 1)\n",
    "plt.legend()\n",
    "plt.show()"
   ]
  },
  {
   "cell_type": "code",
   "execution_count": null,
   "metadata": {
    "execution": {
     "iopub.execute_input": "2024-12-22T14:42:42.991040Z",
     "iopub.status.busy": "2024-12-22T14:42:42.990768Z",
     "iopub.status.idle": "2024-12-22T14:42:43.002597Z",
     "shell.execute_reply": "2024-12-22T14:42:43.001519Z",
     "shell.execute_reply.started": "2024-12-22T14:42:42.991016Z"
    },
    "papermill": {
     "duration": 0.048498,
     "end_time": "2024-12-12T23:01:33.234936",
     "exception": false,
     "start_time": "2024-12-12T23:01:33.186438",
     "status": "completed"
    },
    "tags": [],
    "trusted": true
   },
   "outputs": [],
   "source": [
    "print(train.select(pl.col('PCIAT-PCIAT_Total').is_null() == pl.col('sii').is_null()).to_series().mean())\n",
    "\n",
    "(train\n",
    " .select(pl.col('PCIAT-PCIAT_Total'))\n",
    " .group_by(train.get_column('sii'))\n",
    " .agg(pl.col('PCIAT-PCIAT_Total').min().alias('PCIAT-PCIAT_Total min'),\n",
    "      pl.col('PCIAT-PCIAT_Total').max().alias('PCIAT-PCIAT_Total max'),\n",
    "      pl.col('PCIAT-PCIAT_Total').len().alias('count'))\n",
    " .sort('sii')\n",
    ")"
   ]
  },
  {
   "cell_type": "markdown",
   "metadata": {
    "papermill": {
     "duration": 0.008357,
     "end_time": "2024-12-12T23:01:33.252105",
     "exception": false,
     "start_time": "2024-12-12T23:01:33.243748",
     "status": "completed"
    },
    "tags": []
   },
   "source": [
    "**Insight:**\n",
    "\n",
    "This dataset is imbalanced. Half of the samples are in class 0, while very few in class 3.\n"
   ]
  },
  {
   "cell_type": "code",
   "execution_count": null,
   "metadata": {
    "execution": {
     "iopub.execute_input": "2024-12-22T14:42:43.003984Z",
     "iopub.status.busy": "2024-12-22T14:42:43.003627Z",
     "iopub.status.idle": "2024-12-22T14:42:43.016466Z",
     "shell.execute_reply": "2024-12-22T14:42:43.015557Z",
     "shell.execute_reply.started": "2024-12-22T14:42:43.003957Z"
    },
    "papermill": {
     "duration": 0.015086,
     "end_time": "2024-12-12T23:01:33.275686",
     "exception": false,
     "start_time": "2024-12-12T23:01:33.260600",
     "status": "completed"
    },
    "tags": [],
    "trusted": true
   },
   "outputs": [],
   "source": [
    "print('Columns missing in test:')\n",
    "print([f for f in train.columns if f not in test.columns])"
   ]
  },
  {
   "cell_type": "markdown",
   "metadata": {
    "papermill": {
     "duration": 0.008911,
     "end_time": "2024-12-12T23:01:33.293786",
     "exception": false,
     "start_time": "2024-12-12T23:01:33.284875",
     "status": "completed"
    },
    "tags": []
   },
   "source": [
    "# Demographics\n"
   ]
  },
  {
   "cell_type": "markdown",
   "metadata": {
    "papermill": {
     "duration": 0.008785,
     "end_time": "2024-12-12T23:01:33.311285",
     "exception": false,
     "start_time": "2024-12-12T23:01:33.302500",
     "status": "completed"
    },
    "tags": []
   },
   "source": [
    "Now we look at some basic demographics."
   ]
  },
  {
   "cell_type": "code",
   "execution_count": null,
   "metadata": {
    "execution": {
     "iopub.execute_input": "2024-12-22T14:42:43.018079Z",
     "iopub.status.busy": "2024-12-22T14:42:43.017759Z",
     "iopub.status.idle": "2024-12-22T14:42:43.121127Z",
     "shell.execute_reply": "2024-12-22T14:42:43.119935Z",
     "shell.execute_reply.started": "2024-12-22T14:42:43.018050Z"
    },
    "papermill": {
     "duration": 0.130195,
     "end_time": "2024-12-12T23:01:33.451197",
     "exception": false,
     "start_time": "2024-12-12T23:01:33.321002",
     "status": "completed"
    },
    "tags": [],
    "trusted": true
   },
   "outputs": [],
   "source": [
    "vc = train.get_column('Basic_Demos-Enroll_Season').value_counts()\n",
    "plt.pie(vc.get_column('count'), labels=vc.get_column('Basic_Demos-Enroll_Season'))\n",
    "plt.title('Season of enrollment')\n",
    "plt.show()"
   ]
  },
  {
   "cell_type": "code",
   "execution_count": null,
   "metadata": {
    "execution": {
     "iopub.execute_input": "2024-12-22T14:42:43.127203Z",
     "iopub.status.busy": "2024-12-22T14:42:43.126631Z",
     "iopub.status.idle": "2024-12-22T14:42:43.276921Z",
     "shell.execute_reply": "2024-12-22T14:42:43.275558Z",
     "shell.execute_reply.started": "2024-12-22T14:42:43.127155Z"
    },
    "papermill": {
     "duration": 0.135671,
     "end_time": "2024-12-12T23:01:33.612435",
     "exception": false,
     "start_time": "2024-12-12T23:01:33.476764",
     "status": "completed"
    },
    "tags": [],
    "trusted": true
   },
   "outputs": [],
   "source": [
    "vc = train.get_column('Basic_Demos-Sex').value_counts()\n",
    "plt.pie(vc.get_column('count'), labels=['boys', 'girls'])\n",
    "plt.title('Sex of participant')\n",
    "plt.show()"
   ]
  },
  {
   "cell_type": "code",
   "execution_count": null,
   "metadata": {
    "execution": {
     "iopub.execute_input": "2024-12-22T14:42:43.280140Z",
     "iopub.status.busy": "2024-12-22T14:42:43.279648Z",
     "iopub.status.idle": "2024-12-22T14:42:43.747724Z",
     "shell.execute_reply": "2024-12-22T14:42:43.746654Z",
     "shell.execute_reply.started": "2024-12-22T14:42:43.280094Z"
    },
    "papermill": {
     "duration": 0.422488,
     "end_time": "2024-12-12T23:01:34.060141",
     "exception": false,
     "start_time": "2024-12-12T23:01:33.637653",
     "status": "completed"
    },
    "tags": [],
    "trusted": true
   },
   "outputs": [],
   "source": [
    "_, axs = plt.subplots(2, 1, sharex=True)\n",
    "for sex in range(2):\n",
    "    ax = axs.ravel()[sex]\n",
    "    vc = train.filter(pl.col('Basic_Demos-Sex') == sex).get_column('Basic_Demos-Age').value_counts()\n",
    "    ax.bar(vc.get_column('Basic_Demos-Age'),\n",
    "           vc.get_column('count'),\n",
    "           color=['lightblue', 'coral'][sex],\n",
    "           label=['boys', 'girls'][sex])\n",
    "    ax.xaxis.set_major_locator(MaxNLocator(integer=True))\n",
    "    ax.set_ylabel('count')\n",
    "    ax.legend()\n",
    "plt.suptitle('Age distribution')\n",
    "axs.ravel()[1].set_xlabel('years')\n",
    "plt.show()"
   ]
  },
  {
   "cell_type": "code",
   "execution_count": null,
   "metadata": {
    "execution": {
     "iopub.execute_input": "2024-12-22T14:42:43.749027Z",
     "iopub.status.busy": "2024-12-22T14:42:43.748736Z",
     "iopub.status.idle": "2024-12-22T14:42:44.077905Z",
     "shell.execute_reply": "2024-12-22T14:42:44.076537Z",
     "shell.execute_reply.started": "2024-12-22T14:42:43.749001Z"
    },
    "papermill": {
     "duration": 0.229307,
     "end_time": "2024-12-12T23:01:34.299330",
     "exception": false,
     "start_time": "2024-12-12T23:01:34.070023",
     "status": "completed"
    },
    "tags": [],
    "trusted": true
   },
   "outputs": [],
   "source": [
    "_, axs = plt.subplots(2, 1, sharex=True, sharey=True)\n",
    "for sex in range(2):\n",
    "    ax = axs.ravel()[sex]\n",
    "    vc = train.filter(pl.col('Basic_Demos-Sex') == sex).get_column('sii').value_counts()\n",
    "    ax.bar(vc.get_column('sii'),\n",
    "           vc.get_column('count') / vc.get_column('count').sum(),\n",
    "           color=['lightblue', 'coral'][sex],\n",
    "           label=['boys', 'girls'][sex])\n",
    "    ax.set_xticks(np.arange(4), target_labels)\n",
    "    ax.yaxis.set_major_formatter(PercentFormatter(xmax=1, decimals=0))\n",
    "    ax.set_ylabel('count')\n",
    "    ax.legend()\n",
    "plt.suptitle('Target distribution')\n",
    "axs.ravel()[1].set_xlabel('Severity Impairment Index (sii)')\n",
    "plt.show()"
   ]
  },
  {
   "cell_type": "markdown",
   "metadata": {
    "papermill": {
     "duration": 0.009866,
     "end_time": "2024-12-12T23:01:34.319499",
     "exception": false,
     "start_time": "2024-12-12T23:01:34.309633",
     "status": "completed"
    },
    "tags": []
   },
   "source": [
    "# Now we look at correlations"
   ]
  },
  {
   "cell_type": "code",
   "execution_count": null,
   "metadata": {
    "execution": {
     "iopub.execute_input": "2024-12-22T14:42:44.079600Z",
     "iopub.status.busy": "2024-12-22T14:42:44.079144Z",
     "iopub.status.idle": "2024-12-22T14:42:44.451524Z",
     "shell.execute_reply": "2024-12-22T14:42:44.450446Z",
     "shell.execute_reply.started": "2024-12-22T14:42:44.079560Z"
    },
    "papermill": {
     "duration": 0.36831,
     "end_time": "2024-12-12T23:01:34.697666",
     "exception": false,
     "start_time": "2024-12-12T23:01:34.329356",
     "status": "completed"
    },
    "tags": [],
    "trusted": true
   },
   "outputs": [],
   "source": [
    "plt.figure(figsize=(14, 12))\n",
    "corr_matrix = supervised_usable.select([\n",
    "    'PCIAT-PCIAT_Total', 'Basic_Demos-Age', 'Basic_Demos-Sex', 'Physical-BMI', \n",
    "    'Physical-Height', 'Physical-Weight', 'Physical-Waist_Circumference',\n",
    "    'Physical-Diastolic_BP', 'Physical-Systolic_BP', 'Physical-HeartRate',\n",
    "    'PreInt_EduHx-computerinternet_hoursday', 'SDS-SDS_Total_T', 'PAQ_A-PAQ_A_Total',\n",
    "    'PAQ_C-PAQ_C_Total', 'Fitness_Endurance-Max_Stage', 'Fitness_Endurance-Time_Mins','Fitness_Endurance-Time_Sec',\n",
    "    'FGC-FGC_CU', 'FGC-FGC_GSND','FGC-FGC_GSD','FGC-FGC_PU','FGC-FGC_SRL','FGC-FGC_SRR','FGC-FGC_TL','BIA-BIA_Activity_Level_num', \n",
    "    'BIA-BIA_BMC', 'BIA-BIA_BMI', 'BIA-BIA_BMR', 'BIA-BIA_DEE', 'BIA-BIA_ECW', 'BIA-BIA_FFM',\n",
    "    'BIA-BIA_FFMI','BIA-BIA_FMI', 'BIA-BIA_Fat','BIA-BIA_Frame_num','BIA-BIA_ICW','BIA-BIA_LDM','BIA-BIA_LST',\n",
    "    'BIA-BIA_SMM','BIA-BIA_TBW'\n",
    "    # Add other relevant columns\n",
    "]).to_pandas().corr()\n",
    "\n",
    "sii_corr = corr_matrix['PCIAT-PCIAT_Total'].drop('PCIAT-PCIAT_Total')\n",
    "filtered_corr = sii_corr[(sii_corr > 0.1) | (sii_corr < -0.1)]\n",
    "\n",
    "print(filtered_corr)\n",
    "\n",
    "plt.figure(figsize=(8, 6))\n",
    "filtered_corr.sort_values().plot(kind='barh', color='coral')\n",
    "plt.title('Features with Correlation > 0.1 or < -0.1 with PCIAT-PCIAT_Total')\n",
    "plt.xlabel('Correlation coefficient')\n",
    "plt.ylabel('Features')\n",
    "plt.show()"
   ]
  },
  {
   "cell_type": "markdown",
   "metadata": {
    "papermill": {
     "duration": 0.011841,
     "end_time": "2024-12-12T23:01:34.721898",
     "exception": false,
     "start_time": "2024-12-12T23:01:34.710057",
     "status": "completed"
    },
    "tags": []
   },
   "source": [
    "# Actigraphy (time series)"
   ]
  },
  {
   "cell_type": "code",
   "execution_count": null,
   "metadata": {
    "execution": {
     "iopub.execute_input": "2024-12-22T14:42:44.453079Z",
     "iopub.status.busy": "2024-12-22T14:42:44.452685Z",
     "iopub.status.idle": "2024-12-22T14:42:44.479366Z",
     "shell.execute_reply": "2024-12-22T14:42:44.477980Z",
     "shell.execute_reply.started": "2024-12-22T14:42:44.453044Z"
    },
    "papermill": {
     "duration": 0.104269,
     "end_time": "2024-12-12T23:01:34.838149",
     "exception": false,
     "start_time": "2024-12-12T23:01:34.733880",
     "status": "completed"
    },
    "tags": [],
    "trusted": true
   },
   "outputs": [],
   "source": [
    "actigraphy = pl.read_parquet('/kaggle/input/child-mind-institute-problematic-internet-use/series_train.parquet/id=0417c91e/part-0.parquet')\n",
    "actigraphy"
   ]
  },
  {
   "cell_type": "code",
   "execution_count": null,
   "metadata": {
    "execution": {
     "iopub.execute_input": "2024-12-22T14:42:44.481131Z",
     "iopub.status.busy": "2024-12-22T14:42:44.480698Z",
     "iopub.status.idle": "2024-12-22T14:42:46.844462Z",
     "shell.execute_reply": "2024-12-22T14:42:46.843345Z",
     "shell.execute_reply.started": "2024-12-22T14:42:44.481091Z"
    },
    "papermill": {
     "duration": 2.059998,
     "end_time": "2024-12-12T23:01:36.910104",
     "exception": false,
     "start_time": "2024-12-12T23:01:34.850106",
     "status": "completed"
    },
    "tags": [],
    "trusted": true
   },
   "outputs": [],
   "source": [
    "def analyze_actigraphy(id, only_one_week=False, small=False):\n",
    "    actigraphy = pl.read_parquet(f'/kaggle/input/child-mind-institute-problematic-internet-use/series_train.parquet/id={id}/part-0.parquet')\n",
    "    day = actigraphy.get_column('relative_date_PCIAT') + actigraphy.get_column('time_of_day') / 86400e9\n",
    "    sample = train.filter(pl.col('id') == id)\n",
    "    age = sample.get_column('Basic_Demos-Age').item()\n",
    "    sex = ['boy', 'girl'][sample.get_column('Basic_Demos-Sex').item()]\n",
    "    actigraphy = (\n",
    "        actigraphy\n",
    "        .with_columns(\n",
    "            (day.diff() * 86400).alias('diff_seconds'),\n",
    "            (np.sqrt(np.square(pl.col('X')) + np.square(pl.col('Y')) + np.square(pl.col('Z'))).alias('norm'))\n",
    "        )\n",
    "    )\n",
    "\n",
    "    if only_one_week:\n",
    "        start = np.ceil(day.min())\n",
    "        mask = (start <= day.to_numpy()) & (day.to_numpy() <= start + 7*3)\n",
    "        mask &= ~ actigraphy.get_column('non-wear_flag').cast(bool).to_numpy()\n",
    "    else:\n",
    "        mask = np.full(len(day), True)\n",
    "        \n",
    "    if small:\n",
    "        timelines = [\n",
    "            ('enmo', 'forestgreen'),\n",
    "            ('light', 'orange'),\n",
    "        ]\n",
    "    else:\n",
    "        timelines = [\n",
    "            ('X', 'm'),\n",
    "            ('Y', 'm'),\n",
    "            ('Z', 'm'),\n",
    "#             ('norm', 'c'),\n",
    "            ('enmo', 'forestgreen'),\n",
    "            ('anglez', 'lightblue'),\n",
    "            ('light', 'orange'),\n",
    "            ('non-wear_flag', 'chocolate')\n",
    "    #         ('diff_seconds', 'k'),\n",
    "        ]\n",
    "        \n",
    "    _, axs = plt.subplots(len(timelines), 1, sharex=True, figsize=(12, len(timelines) * 1.1 + 0.5))\n",
    "    for ax, (feature, color) in zip(axs, timelines):\n",
    "        ax.set_facecolor('#eeeeee')\n",
    "        ax.scatter(day.to_numpy()[mask],\n",
    "                   actigraphy.get_column(feature).to_numpy()[mask],\n",
    "                   color=color, label=feature, s=1)\n",
    "        ax.legend(loc='upper left', facecolor='#eeeeee')\n",
    "        if feature == 'diff_seconds':\n",
    "            ax.set_ylim(-0.5, 20.5)\n",
    "    axs[-1].set_xlabel('day')\n",
    "    axs[-1].xaxis.set_major_locator(MaxNLocator(integer=True))\n",
    "    plt.tight_layout()\n",
    "    axs[0].set_title(f'id={id}, {sex}, age={age}')\n",
    "    plt.show()\n",
    "\n",
    "analyze_actigraphy('0417c91e', only_one_week=False)"
   ]
  },
  {
   "cell_type": "code",
   "execution_count": null,
   "metadata": {
    "execution": {
     "iopub.execute_input": "2024-12-22T14:42:46.846139Z",
     "iopub.status.busy": "2024-12-22T14:42:46.845792Z",
     "iopub.status.idle": "2024-12-22T14:42:46.850730Z",
     "shell.execute_reply": "2024-12-22T14:42:46.849509Z",
     "shell.execute_reply.started": "2024-12-22T14:42:46.846108Z"
    },
    "papermill": {
     "duration": 0.024202,
     "end_time": "2024-12-12T23:01:36.950561",
     "exception": false,
     "start_time": "2024-12-12T23:01:36.926359",
     "status": "completed"
    },
    "tags": [],
    "trusted": true
   },
   "outputs": [],
   "source": [
    "SEED = 42\n",
    "n_splits = 5"
   ]
  },
  {
   "cell_type": "markdown",
   "metadata": {
    "papermill": {
     "duration": 0.012984,
     "end_time": "2024-12-12T23:01:36.976761",
     "exception": false,
     "start_time": "2024-12-12T23:01:36.963777",
     "status": "completed"
    },
    "tags": []
   },
   "source": [
    "# Feature Engineering\n",
    "\n",
    "- **Feature Selection**: The dataset contains features related to physical characteristics (e.g., BMI, Height, Weight), behavioral aspects (e.g., internet usage), and fitness data (e.g., endurance time). \n",
    "- **Categorical Feature Encoding**: Categorical features are mapped to numerical values using custom mappings for each unique category within the dataset. This ensures compatibility with machine learning algorithms that require numerical input.\n",
    "- **Time Series Aggregation**: Time series statistics (e.g., mean, standard deviation) from the actigraphy data are computed and merged into the main dataset to create additional features for model training.\n"
   ]
  },
  {
   "cell_type": "code",
   "execution_count": null,
   "metadata": {
    "execution": {
     "iopub.execute_input": "2024-12-22T14:42:46.852054Z",
     "iopub.status.busy": "2024-12-22T14:42:46.851792Z",
     "iopub.status.idle": "2024-12-22T14:42:46.871018Z",
     "shell.execute_reply": "2024-12-22T14:42:46.870092Z",
     "shell.execute_reply.started": "2024-12-22T14:42:46.852023Z"
    },
    "papermill": {
     "duration": 0.030867,
     "end_time": "2024-12-12T23:01:37.020876",
     "exception": false,
     "start_time": "2024-12-12T23:01:36.990009",
     "status": "completed"
    },
    "tags": [],
    "trusted": true
   },
   "outputs": [],
   "source": [
    "def process_file(filename, dirname):\n",
    "    df = pd.read_parquet(os.path.join(dirname, filename, 'part-0.parquet'))\n",
    "    df.drop('step', axis=1, inplace=True)\n",
    "    return df.describe().values.reshape(-1), filename.split('=')[1]\n",
    "\n",
    "def load_time_series(dirname) -> pd.DataFrame:\n",
    "    ids = os.listdir(dirname)\n",
    "    \n",
    "    with ThreadPoolExecutor() as executor:\n",
    "        results = list(tqdm(executor.map(lambda fname: process_file(fname, dirname), ids), total=len(ids)))\n",
    "    \n",
    "    stats, indexes = zip(*results)\n",
    "    \n",
    "    df = pd.DataFrame(stats, columns=[f\"stat_{i}\" for i in range(len(stats[0]))])\n",
    "    df['id'] = indexes\n",
    "    return df\n",
    "\n",
    "\n",
    "class AutoEncoder(nn.Module):\n",
    "    def __init__(self, input_dim, encoding_dim):\n",
    "        super(AutoEncoder, self).__init__()\n",
    "        self.encoder = nn.Sequential(\n",
    "            nn.Linear(input_dim, encoding_dim*3),\n",
    "            nn.ReLU(),\n",
    "            nn.Linear(encoding_dim*3, encoding_dim*2),\n",
    "            nn.ReLU(),\n",
    "            nn.Linear(encoding_dim*2, encoding_dim),\n",
    "            nn.ReLU()\n",
    "        )\n",
    "        self.decoder = nn.Sequential(\n",
    "            nn.Linear(encoding_dim, input_dim*2),\n",
    "            nn.ReLU(),\n",
    "            nn.Linear(input_dim*2, input_dim*3),\n",
    "            nn.ReLU(),\n",
    "            nn.Linear(input_dim*3, input_dim),\n",
    "            nn.Sigmoid()\n",
    "        )\n",
    "        \n",
    "    def forward(self, x):\n",
    "        encoded = self.encoder(x)\n",
    "        decoded = self.decoder(encoded)\n",
    "        return decoded\n",
    "\n",
    "\n",
    "def perform_autoencoder(df, encoding_dim=50, epochs=50, batch_size=32):\n",
    "    scaler = StandardScaler()\n",
    "    df_scaled = scaler.fit_transform(df)\n",
    "    \n",
    "    data_tensor = torch.FloatTensor(df_scaled)\n",
    "    \n",
    "    input_dim = data_tensor.shape[1]\n",
    "    autoencoder = AutoEncoder(input_dim, encoding_dim)\n",
    "    \n",
    "    criterion = nn.MSELoss()\n",
    "    optimizer = optim.Adam(autoencoder.parameters())\n",
    "    \n",
    "    for epoch in range(epochs):\n",
    "        for i in range(0, len(data_tensor), batch_size):\n",
    "            batch = data_tensor[i : i + batch_size]\n",
    "            optimizer.zero_grad()\n",
    "            reconstructed = autoencoder(batch)\n",
    "            loss = criterion(reconstructed, batch)\n",
    "            loss.backward()\n",
    "            optimizer.step()\n",
    "            \n",
    "        if (epoch + 1) % 10 == 0:\n",
    "            print(f'Epoch [{epoch + 1}/{epochs}], Loss: {loss.item():.4f}]')\n",
    "                 \n",
    "    with torch.no_grad():\n",
    "        encoded_data = autoencoder.encoder(data_tensor).numpy()\n",
    "        \n",
    "    df_encoded = pd.DataFrame(encoded_data, columns=[f'Enc_{i + 1}' for i in range(encoded_data.shape[1])])\n",
    "    \n",
    "    return df_encoded\n",
    "\n",
    "def feature_engineering(df):\n",
    "    season_cols = [col for col in df.columns if 'Season' in col]\n",
    "    df = df.drop(season_cols, axis=1) \n",
    "    df['BMI_Age'] = df['Physical-BMI'] * df['Basic_Demos-Age']\n",
    "    df['Internet_Hours_Age'] = df['PreInt_EduHx-computerinternet_hoursday'] * df['Basic_Demos-Age']\n",
    "    df['BMI_Internet_Hours'] = df['Physical-BMI'] * df['PreInt_EduHx-computerinternet_hoursday']\n",
    "    df['BFP_BMI'] = df['BIA-BIA_Fat'] / df['BIA-BIA_BMI']\n",
    "    df['FFMI_BFP'] = df['BIA-BIA_FFMI'] / df['BIA-BIA_Fat']\n",
    "    df['FMI_BFP'] = df['BIA-BIA_FMI'] / df['BIA-BIA_Fat']\n",
    "    df['LST_TBW'] = df['BIA-BIA_LST'] / df['BIA-BIA_TBW']\n",
    "    df['BFP_BMR'] = df['BIA-BIA_Fat'] * df['BIA-BIA_BMR']\n",
    "    df['BFP_DEE'] = df['BIA-BIA_Fat'] * df['BIA-BIA_DEE']\n",
    "    df['BMR_Weight'] = df['BIA-BIA_BMR'] / df['Physical-Weight']\n",
    "    df['DEE_Weight'] = df['BIA-BIA_DEE'] / df['Physical-Weight']\n",
    "    df['SMM_Height'] = df['BIA-BIA_SMM'] / df['Physical-Height']\n",
    "    df['Muscle_to_Fat'] = df['BIA-BIA_SMM'] / df['BIA-BIA_FMI']\n",
    "    df['Hydration_Status'] = df['BIA-BIA_TBW'] / df['Physical-Weight']\n",
    "    df['ICW_TBW'] = df['BIA-BIA_ICW'] / df['BIA-BIA_TBW']\n",
    "    \n",
    "    return df"
   ]
  },
  {
   "cell_type": "code",
   "execution_count": null,
   "metadata": {
    "execution": {
     "iopub.execute_input": "2024-12-22T14:42:46.872525Z",
     "iopub.status.busy": "2024-12-22T14:42:46.872161Z",
     "iopub.status.idle": "2024-12-22T14:42:46.937096Z",
     "shell.execute_reply": "2024-12-22T14:42:46.936189Z",
     "shell.execute_reply.started": "2024-12-22T14:42:46.872499Z"
    },
    "papermill": {
     "duration": 0.066518,
     "end_time": "2024-12-12T23:01:37.100703",
     "exception": false,
     "start_time": "2024-12-12T23:01:37.034185",
     "status": "completed"
    },
    "tags": [],
    "trusted": true
   },
   "outputs": [],
   "source": [
    "train = pd.read_csv('/kaggle/input/child-mind-institute-problematic-internet-use/train.csv')\n",
    "test = pd.read_csv('/kaggle/input/child-mind-institute-problematic-internet-use/test.csv')\n",
    "sample = pd.read_csv('/kaggle/input/child-mind-institute-problematic-internet-use/sample_submission.csv')\n"
   ]
  },
  {
   "cell_type": "code",
   "execution_count": null,
   "metadata": {
    "execution": {
     "iopub.execute_input": "2024-12-22T14:42:46.938482Z",
     "iopub.status.busy": "2024-12-22T14:42:46.938172Z",
     "iopub.status.idle": "2024-12-22T14:44:09.845966Z",
     "shell.execute_reply": "2024-12-22T14:44:09.844891Z",
     "shell.execute_reply.started": "2024-12-22T14:42:46.938454Z"
    },
    "papermill": {
     "duration": 72.642153,
     "end_time": "2024-12-12T23:02:49.756198",
     "exception": false,
     "start_time": "2024-12-12T23:01:37.114045",
     "status": "completed"
    },
    "tags": [],
    "trusted": true
   },
   "outputs": [],
   "source": [
    "\n",
    "train_ts = load_time_series(\"/kaggle/input/child-mind-institute-problematic-internet-use/series_train.parquet\")\n",
    "test_ts = load_time_series(\"/kaggle/input/child-mind-institute-problematic-internet-use/series_test.parquet\")\n"
   ]
  },
  {
   "cell_type": "code",
   "execution_count": null,
   "metadata": {
    "execution": {
     "iopub.execute_input": "2024-12-22T14:44:09.847721Z",
     "iopub.status.busy": "2024-12-22T14:44:09.847341Z",
     "iopub.status.idle": "2024-12-22T14:44:09.861310Z",
     "shell.execute_reply": "2024-12-22T14:44:09.860006Z",
     "shell.execute_reply.started": "2024-12-22T14:44:09.847691Z"
    },
    "papermill": {
     "duration": 0.042727,
     "end_time": "2024-12-12T23:02:49.826957",
     "exception": false,
     "start_time": "2024-12-12T23:02:49.784230",
     "status": "completed"
    },
    "tags": [],
    "trusted": true
   },
   "outputs": [],
   "source": [
    "def prepare_data(train, test, sample, train_ts, test_ts, use_time_series=False, use_feature_engineering=False):\n",
    "    if use_time_series:\n",
    "        df_train = train_ts.drop('id', axis=1)\n",
    "        df_test = test_ts.drop('id', axis=1)\n",
    "        time_series_cols = df_train.columns.tolist()\n",
    "        if use_feature_engineering:\n",
    "            train_ts_encoded = perform_autoencoder(df_train, encoding_dim=60, epochs=100, batch_size=32)\n",
    "            test_ts_encoded = perform_autoencoder(df_test, encoding_dim=60, epochs=100, batch_size=32)\n",
    "\n",
    "            time_series_cols = train_ts_encoded.columns.tolist()\n",
    "            \n",
    "            train_ts_encoded[\"id\"]=train_ts[\"id\"]\n",
    "            test_ts_encoded['id']=test_ts[\"id\"]\n",
    "\n",
    "            train = pd.merge(train, train_ts_encoded, how=\"left\", on='id')\n",
    "            test = pd.merge(test, test_ts_encoded, how=\"left\", on='id')\n",
    "        else:\n",
    "            train = pd.merge(train, train_ts, how=\"left\", on='id')\n",
    "            test = pd.merge(test, test_ts, how=\"left\", on='id')\n",
    "\n",
    "    if use_feature_engineering:\n",
    "        imputer = KNNImputer(n_neighbors=5)\n",
    "        numeric_cols = train.select_dtypes(include=['float64', 'int64']).columns\n",
    "        imputed_data = imputer.fit_transform(train[numeric_cols])\n",
    "        train_imputed = pd.DataFrame(imputed_data, columns=numeric_cols)\n",
    "        train_imputed['sii'] = train_imputed['sii'].round().astype(int)\n",
    "        for col in train.columns:\n",
    "            if col not in numeric_cols:\n",
    "                train_imputed[col] = train[col]\n",
    "                \n",
    "        train = train_imputed\n",
    "        \n",
    "        train = feature_engineering(train)\n",
    "        train = train.dropna(thresh=10, axis=0)\n",
    "        test = feature_engineering(test)\n",
    "    \n",
    "    train = train.drop('id', axis=1)\n",
    "    test  = test .drop('id', axis=1)   \n",
    "    \n",
    "    \n",
    "    featuresCols = ['Basic_Demos-Age', 'Basic_Demos-Sex',\n",
    "                    'CGAS-CGAS_Score', 'Physical-BMI',\n",
    "                    'Physical-Height', 'Physical-Weight', 'Physical-Waist_Circumference',\n",
    "                    'Physical-Diastolic_BP', 'Physical-HeartRate', 'Physical-Systolic_BP',\n",
    "                    'Fitness_Endurance-Max_Stage',\n",
    "                    'Fitness_Endurance-Time_Mins', 'Fitness_Endurance-Time_Sec',\n",
    "                    'FGC-FGC_CU', 'FGC-FGC_CU_Zone', 'FGC-FGC_GSND',\n",
    "                    'FGC-FGC_GSND_Zone', 'FGC-FGC_GSD', 'FGC-FGC_GSD_Zone', 'FGC-FGC_PU',\n",
    "                    'FGC-FGC_PU_Zone', 'FGC-FGC_SRL', 'FGC-FGC_SRL_Zone', 'FGC-FGC_SRR',\n",
    "                    'FGC-FGC_SRR_Zone', 'FGC-FGC_TL', 'FGC-FGC_TL_Zone',\n",
    "                    'BIA-BIA_Activity_Level_num', 'BIA-BIA_BMC', 'BIA-BIA_BMI',\n",
    "                    'BIA-BIA_BMR', 'BIA-BIA_DEE', 'BIA-BIA_ECW', 'BIA-BIA_FFM',\n",
    "                    'BIA-BIA_FFMI', 'BIA-BIA_FMI', 'BIA-BIA_Fat', 'BIA-BIA_Frame_num',\n",
    "                    'BIA-BIA_ICW', 'BIA-BIA_LDM', 'BIA-BIA_LST', 'BIA-BIA_SMM',\n",
    "                    'BIA-BIA_TBW', 'PAQ_A-PAQ_A_Total',\n",
    "                    'PAQ_C-PAQ_C_Total', 'SDS-SDS_Total_Raw',\n",
    "                    'SDS-SDS_Total_T',\n",
    "                    'PreInt_EduHx-computerinternet_hoursday', 'sii']\n",
    "    \n",
    "    if use_feature_engineering:\n",
    "        featuresCols = featuresCols + ['BMI_Age','Internet_Hours_Age','BMI_Internet_Hours',\n",
    "                    'BFP_BMI', 'FFMI_BFP', 'FMI_BFP', 'LST_TBW', 'BFP_BMR', 'BFP_DEE', 'BMR_Weight', 'DEE_Weight',\n",
    "                    'SMM_Height', 'Muscle_to_Fat', 'Hydration_Status', 'ICW_TBW']\n",
    "    if use_time_series:\n",
    "        featuresCols += time_series_cols\n",
    "    \n",
    "    train = train[featuresCols]\n",
    "    train = train.dropna(subset='sii')\n",
    "    \n",
    "    featuresCols = ['Basic_Demos-Age', 'Basic_Demos-Sex',\n",
    "                    'CGAS-CGAS_Score', 'Physical-BMI',\n",
    "                    'Physical-Height', 'Physical-Weight', 'Physical-Waist_Circumference',\n",
    "                    'Physical-Diastolic_BP', 'Physical-HeartRate', 'Physical-Systolic_BP',\n",
    "                    'Fitness_Endurance-Max_Stage',\n",
    "                    'Fitness_Endurance-Time_Mins', 'Fitness_Endurance-Time_Sec',\n",
    "                    'FGC-FGC_CU', 'FGC-FGC_CU_Zone', 'FGC-FGC_GSND',\n",
    "                    'FGC-FGC_GSND_Zone', 'FGC-FGC_GSD', 'FGC-FGC_GSD_Zone', 'FGC-FGC_PU',\n",
    "                    'FGC-FGC_PU_Zone', 'FGC-FGC_SRL', 'FGC-FGC_SRL_Zone', 'FGC-FGC_SRR',\n",
    "                    'FGC-FGC_SRR_Zone', 'FGC-FGC_TL', 'FGC-FGC_TL_Zone',\n",
    "                    'BIA-BIA_Activity_Level_num', 'BIA-BIA_BMC', 'BIA-BIA_BMI',\n",
    "                    'BIA-BIA_BMR', 'BIA-BIA_DEE', 'BIA-BIA_ECW', 'BIA-BIA_FFM',\n",
    "                    'BIA-BIA_FFMI', 'BIA-BIA_FMI', 'BIA-BIA_Fat', 'BIA-BIA_Frame_num',\n",
    "                    'BIA-BIA_ICW', 'BIA-BIA_LDM', 'BIA-BIA_LST', 'BIA-BIA_SMM',\n",
    "                    'BIA-BIA_TBW', 'PAQ_A-PAQ_A_Total',\n",
    "                    'PAQ_C-PAQ_C_Total', 'SDS-SDS_Total_Raw',\n",
    "                    'SDS-SDS_Total_T',\n",
    "                    'PreInt_EduHx-computerinternet_hoursday']\n",
    "    \n",
    "    if use_feature_engineering:\n",
    "        featuresCols = featuresCols + ['BMI_Age','Internet_Hours_Age','BMI_Internet_Hours',\n",
    "                    'BFP_BMI', 'FFMI_BFP', 'FMI_BFP', 'LST_TBW', 'BFP_BMR', 'BFP_DEE', 'BMR_Weight', 'DEE_Weight',\n",
    "                    'SMM_Height', 'Muscle_to_Fat', 'Hydration_Status', 'ICW_TBW']\n",
    "    if use_time_series:\n",
    "        featuresCols += time_series_cols\n",
    "    test = test[featuresCols]\n",
    "    return train, test\n",
    "    "
   ]
  },
  {
   "cell_type": "code",
   "execution_count": null,
   "metadata": {
    "execution": {
     "iopub.execute_input": "2024-12-22T14:44:09.863046Z",
     "iopub.status.busy": "2024-12-22T14:44:09.862609Z",
     "iopub.status.idle": "2024-12-22T14:44:09.889688Z",
     "shell.execute_reply": "2024-12-22T14:44:09.888499Z",
     "shell.execute_reply.started": "2024-12-22T14:44:09.863005Z"
    },
    "papermill": {
     "duration": 6.513147,
     "end_time": "2024-12-12T23:02:56.366606",
     "exception": false,
     "start_time": "2024-12-12T23:02:49.853459",
     "status": "completed"
    },
    "tags": [],
    "trusted": true
   },
   "outputs": [],
   "source": [
    "train, test = prepare_data(train, test, sample, train_ts, test_ts, use_time_series=False, use_feature_engineering=False)"
   ]
  },
  {
   "cell_type": "code",
   "execution_count": null,
   "metadata": {
    "execution": {
     "iopub.execute_input": "2024-12-22T14:44:09.891114Z",
     "iopub.status.busy": "2024-12-22T14:44:09.890833Z",
     "iopub.status.idle": "2024-12-22T14:44:09.899245Z",
     "shell.execute_reply": "2024-12-22T14:44:09.898155Z",
     "shell.execute_reply.started": "2024-12-22T14:44:09.891090Z"
    },
    "papermill": {
     "duration": 0.037186,
     "end_time": "2024-12-12T23:02:56.432222",
     "exception": false,
     "start_time": "2024-12-12T23:02:56.395036",
     "status": "completed"
    },
    "tags": [],
    "trusted": true
   },
   "outputs": [],
   "source": [
    "if np.any(np.isinf(train)):\n",
    "    train = train.replace([np.inf, -np.inf], np.nan)\n",
    "\n",
    "def quadratic_weighted_kappa(y_true, y_pred):\n",
    "    return cohen_kappa_score(y_true, y_pred, weights='quadratic')\n",
    "\n",
    "def threshold_Rounder(oof_non_rounded, thresholds):\n",
    "    return np.where(oof_non_rounded < thresholds[0], 0,\n",
    "                    np.where(oof_non_rounded < thresholds[1], 1,\n",
    "                             np.where(oof_non_rounded < thresholds[2], 2, 3)))\n",
    "\n",
    "def evaluate_predictions(thresholds, y_true, oof_non_rounded):\n",
    "    rounded_p = threshold_Rounder(oof_non_rounded, thresholds)\n",
    "    return -quadratic_weighted_kappa(y_true, rounded_p)"
   ]
  },
  {
   "cell_type": "markdown",
   "metadata": {
    "papermill": {
     "duration": 0.026177,
     "end_time": "2024-12-12T23:02:56.484999",
     "exception": false,
     "start_time": "2024-12-12T23:02:56.458822",
     "status": "completed"
    },
    "tags": []
   },
   "source": [
    "# Model Training and Evaluation\n",
    "\n",
    "- **Model Types**: Various models are used, including:\n",
    "  - **LightGBM**: A gradient-boosting framework known for its speed and efficiency with large datasets.\n",
    "  - **XGBoost**: Another powerful gradient-boosting model used for structured data.\n",
    "  - **CatBoost**: Optimized for categorical features without the need for extensive preprocessing.\n",
    "  - **Voting Regressor**: An ensemble model that combines the predictions of LightGBM, XGBoost, and CatBoost for better accuracy.\n",
    "- **Cross-Validation**: Stratified K-Folds cross-validation is employed to split the data into training and validation sets, ensuring balanced class distribution in each fold.\n",
    "- **Quadratic Weighted Kappa (QWK)**: The performance of the models is evaluated using QWK, which measures the agreement between predicted and actual values, taking into account the ordinal nature of the target variable.\n",
    "- **Threshold Optimization**: The `minimize` function from `scipy.optimize` is used to fine-tune decision thresholds that map continuous predictions to discrete categories (None, Mild, Moderate, Severe).\n"
   ]
  },
  {
   "cell_type": "code",
   "execution_count": null,
   "metadata": {
    "execution": {
     "iopub.execute_input": "2024-12-22T14:44:09.900753Z",
     "iopub.status.busy": "2024-12-22T14:44:09.900323Z",
     "iopub.status.idle": "2024-12-22T14:44:09.921733Z",
     "shell.execute_reply": "2024-12-22T14:44:09.920562Z",
     "shell.execute_reply.started": "2024-12-22T14:44:09.900712Z"
    },
    "papermill": {
     "duration": 0.037714,
     "end_time": "2024-12-12T23:02:56.549373",
     "exception": false,
     "start_time": "2024-12-12T23:02:56.511659",
     "status": "completed"
    },
    "tags": [],
    "trusted": true
   },
   "outputs": [],
   "source": [
    "def TrainML(model_class, test_data):\n",
    "    X = train.drop(['sii'], axis=1)\n",
    "    y = train['sii']\n",
    "\n",
    "    SKF = StratifiedKFold(n_splits=n_splits, shuffle=True, random_state=SEED)\n",
    "    \n",
    "    train_S = []\n",
    "    test_S = []\n",
    "    \n",
    "    oof_non_rounded = np.zeros(len(y), dtype=float) \n",
    "    oof_rounded = np.zeros(len(y), dtype=int) \n",
    "    test_preds = np.zeros((len(test_data), n_splits))\n",
    "\n",
    "    for fold, (train_idx, test_idx) in enumerate(tqdm(SKF.split(X, y), desc=\"Training Folds\", total=n_splits)):\n",
    "        X_train, X_val = X.iloc[train_idx], X.iloc[test_idx]\n",
    "        y_train, y_val = y.iloc[train_idx], y.iloc[test_idx]\n",
    "\n",
    "        model = clone(model_class)\n",
    "        model.fit(X_train, y_train)\n",
    "\n",
    "        y_train_pred = model.predict(X_train)\n",
    "        y_val_pred = model.predict(X_val)\n",
    "\n",
    "        oof_non_rounded[test_idx] = y_val_pred\n",
    "        y_val_pred_rounded = y_val_pred.round(0).astype(int)\n",
    "        oof_rounded[test_idx] = y_val_pred_rounded\n",
    "\n",
    "        train_kappa = quadratic_weighted_kappa(y_train, y_train_pred.round(0).astype(int))\n",
    "        val_kappa = quadratic_weighted_kappa(y_val, y_val_pred_rounded)\n",
    "\n",
    "        train_S.append(train_kappa)\n",
    "        test_S.append(val_kappa)\n",
    "        \n",
    "        test_preds[:, fold] = model.predict(test_data)\n",
    "        \n",
    "        print(f\"Fold {fold+1} - Train QWK: {train_kappa:.4f}, Validation QWK: {val_kappa:.4f}\")\n",
    "        clear_output(wait=True)\n",
    "\n",
    "    print(f\"Mean Train QWK --> {np.mean(train_S):.4f}\")\n",
    "    print(f\"Mean Validation QWK ---> {np.mean(test_S):.4f}\")\n",
    "\n",
    "    KappaOPtimizer = minimize(evaluate_predictions,\n",
    "                              x0=[0.5, 1.5, 2.5], args=(y, oof_non_rounded), \n",
    "                              method='Nelder-Mead')\n",
    "    assert KappaOPtimizer.success, \"Optimization did not converge.\"\n",
    "    \n",
    "    oof_tuned = threshold_Rounder(oof_non_rounded, KappaOPtimizer.x)\n",
    "    tKappa = quadratic_weighted_kappa(y, oof_tuned)\n",
    "\n",
    "    print(f\"----> || Optimized QWK SCORE :: {Fore.CYAN}{Style.BRIGHT} {tKappa:.3f}{Style.RESET_ALL}\")\n",
    "\n",
    "    tpm = test_preds.mean(axis=1)\n",
    "    tpTuned = threshold_Rounder(tpm, KappaOPtimizer.x)\n",
    "    \n",
    "    submission = pd.DataFrame({\n",
    "        'id': sample['id'],\n",
    "        'sii': tpTuned\n",
    "    })\n",
    "\n",
    "    return submission"
   ]
  },
  {
   "cell_type": "markdown",
   "metadata": {
    "papermill": {
     "duration": 0.026282,
     "end_time": "2024-12-12T23:02:56.602402",
     "exception": false,
     "start_time": "2024-12-12T23:02:56.576120",
     "status": "completed"
    },
    "tags": []
   },
   "source": [
    "\n",
    "# Hyperparameter Tuning\n",
    "\n",
    "- **LightGBM Parameters**: Hyperparameters such as `learning_rate`, `max_depth`, `num_leaves`, and `feature_fraction` are tuned to improve the performance of the LightGBM model. These parameters control the complexity of the model and its ability to generalize to new data.\n",
    "- **XGBoost and CatBoost Parameters**: Similar tuning is applied for XGBoost and CatBoost, adjusting parameters such as `n_estimators`, `max_depth`, `learning_rate`, `subsample`, and `regularization` terms (`reg_alpha`, `reg_lambda`). These help in controlling overfitting and ensuring the model's robustness."
   ]
  },
  {
   "cell_type": "code",
   "execution_count": null,
   "metadata": {
    "execution": {
     "iopub.execute_input": "2024-12-22T14:44:59.428132Z",
     "iopub.status.busy": "2024-12-22T14:44:59.427099Z",
     "iopub.status.idle": "2024-12-22T14:44:59.436836Z",
     "shell.execute_reply": "2024-12-22T14:44:59.435581Z",
     "shell.execute_reply.started": "2024-12-22T14:44:59.428081Z"
    },
    "papermill": {
     "duration": 0.034231,
     "end_time": "2024-12-12T23:02:56.663006",
     "exception": false,
     "start_time": "2024-12-12T23:02:56.628775",
     "status": "completed"
    },
    "tags": [],
    "trusted": true
   },
   "outputs": [],
   "source": [
    "\n",
    "CatBoost_Params = {\n",
    "    'learning_rate': 0.05,\n",
    "    'depth': 6,\n",
    "    'iterations': 200,\n",
    "    'random_seed': SEED,\n",
    "    'verbose': 0,\n",
    "    'l2_leaf_reg': 10,  # Increase this value\n",
    "    'task_type': 'CPU'\n",
    "\n",
    "}"
   ]
  },
  {
   "cell_type": "markdown",
   "metadata": {
    "papermill": {
     "duration": 0.026621,
     "end_time": "2024-12-12T23:02:56.716545",
     "exception": false,
     "start_time": "2024-12-12T23:02:56.689924",
     "status": "completed"
    },
    "tags": []
   },
   "source": [
    "# Ensemble Learning and Submission Preparation\n",
    "\n",
    "- **Ensemble Learning**: The model uses a **Voting Regressor**, which combines the predictions from LightGBM, XGBoost, and CatBoost. This approach is beneficial as it leverages the strengths of multiple models, reducing overfitting and improving overall model performance.\n",
    "- **Out-of-Fold (OOF) Predictions**: During cross-validation, out-of-fold predictions are generated for the training set, which helps in model evaluation without data leakage.\n",
    "- **Kappa Optimizer**: The Kappa Optimizer ensures that the predicted values are as close to the actual values as possible by adjusting the thresholds used to convert raw model outputs into class labels.\n",
    "- **Test Set Predictions**: After the model is trained and thresholds are optimized, the test dataset is processed, and predictions are generated using the ensemble model. These predictions are converted into the appropriate format for submission.\n",
    "- **Submission File Creation**: The predictions are saved in a CSV file following the required format for submission (e.g., for a Kaggle competition), which includes columns like `id` and `sii` (Severity Impairment Index)."
   ]
  },
  {
   "cell_type": "markdown",
   "metadata": {
    "papermill": {
     "duration": 0.02632,
     "end_time": "2024-12-12T23:02:56.769459",
     "exception": false,
     "start_time": "2024-12-12T23:02:56.743139",
     "status": "completed"
    },
    "tags": []
   },
   "source": [
    "# Final Results and Performance Metrics\n",
    "\n",
    "- **Train and Validation Scores**: After training across multiple folds, the mean Quadratic Weighted Kappa (QWK) score is calculated for both the training and validation datasets, providing an indicator of model performance. \n",
    "- **Optimized QWK Score**: The final optimized QWK score after threshold tuning is displayed, showcasing the model's ability to predict the severity levels effectively.\n",
    "- **Test Predictions**: The test set predictions are evaluated, and a breakdown of the predicted severity levels (None, Mild, Moderate, Severe) is shown, along with their respective counts."
   ]
  },
  {
   "cell_type": "code",
   "execution_count": null,
   "metadata": {
    "execution": {
     "iopub.execute_input": "2024-12-22T14:44:59.923171Z",
     "iopub.status.busy": "2024-12-22T14:44:59.922803Z",
     "iopub.status.idle": "2024-12-22T14:44:59.929333Z",
     "shell.execute_reply": "2024-12-22T14:44:59.927943Z",
     "shell.execute_reply.started": "2024-12-22T14:44:59.923138Z"
    },
    "papermill": {
     "duration": 0.036991,
     "end_time": "2024-12-12T23:02:56.832768",
     "exception": false,
     "start_time": "2024-12-12T23:02:56.795777",
     "status": "completed"
    },
    "tags": [],
    "trusted": true
   },
   "outputs": [],
   "source": [
    "CatBoost_Model = CatBoostRegressor(**CatBoost_Params)"
   ]
  },
  {
   "cell_type": "code",
   "execution_count": null,
   "metadata": {
    "execution": {
     "iopub.execute_input": "2024-12-22T14:45:02.127039Z",
     "iopub.status.busy": "2024-12-22T14:45:02.126671Z",
     "iopub.status.idle": "2024-12-22T14:45:06.968961Z",
     "shell.execute_reply": "2024-12-22T14:45:06.967704Z",
     "shell.execute_reply.started": "2024-12-22T14:45:02.127009Z"
    },
    "papermill": {
     "duration": 3.82981,
     "end_time": "2024-12-12T23:03:00.689026",
     "exception": false,
     "start_time": "2024-12-12T23:02:56.859216",
     "status": "completed"
    },
    "tags": [],
    "trusted": true
   },
   "outputs": [],
   "source": [
    "Submission1 = TrainML(CatBoost_Model, test)\n",
    "\n",
    "Submission1"
   ]
  },
  {
   "cell_type": "code",
   "execution_count": null,
   "metadata": {
    "execution": {
     "iopub.status.busy": "2024-12-22T14:44:10.075487Z",
     "iopub.status.idle": "2024-12-22T14:44:10.075818Z",
     "shell.execute_reply": "2024-12-22T14:44:10.075689Z"
    },
    "papermill": {
     "duration": 0.036487,
     "end_time": "2024-12-12T23:03:00.755950",
     "exception": false,
     "start_time": "2024-12-12T23:03:00.719463",
     "status": "completed"
    },
    "tags": [],
    "trusted": true
   },
   "outputs": [],
   "source": [
    "sub1 = Submission1\n",
    "\n",
    "sub1.to_csv('submission.csv', index=False)\n",
    "\n",
    "print(\"Submission saved to 'submission.csv'\")"
   ]
  }
 ],
 "metadata": {
  "kaggle": {
   "accelerator": "none",
   "dataSources": [
    {
     "databundleVersionId": 9643020,
     "sourceId": 81933,
     "sourceType": "competition"
    }
   ],
   "dockerImageVersionId": 30823,
   "isGpuEnabled": false,
   "isInternetEnabled": false,
   "language": "python",
   "sourceType": "notebook"
  },
  "kernelspec": {
   "display_name": "Python 3",
   "language": "python",
   "name": "python3"
  },
  "language_info": {
   "codemirror_mode": {
    "name": "ipython",
    "version": 3
   },
   "file_extension": ".py",
   "mimetype": "text/x-python",
   "name": "python",
   "nbconvert_exporter": "python",
   "pygments_lexer": "ipython3",
   "version": "3.10.12"
  },
  "papermill": {
   "default_parameters": {},
   "duration": 116.867071,
   "end_time": "2024-12-12T23:03:03.656985",
   "environment_variables": {},
   "exception": null,
   "input_path": "__notebook__.ipynb",
   "output_path": "__notebook__.ipynb",
   "parameters": {},
   "start_time": "2024-12-12T23:01:06.789914",
   "version": "2.6.0"
  }
 },
 "nbformat": 4,
 "nbformat_minor": 4
}
